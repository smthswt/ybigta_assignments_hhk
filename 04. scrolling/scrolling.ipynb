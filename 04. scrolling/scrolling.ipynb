{
 "cells": [
  {
   "cell_type": "markdown",
   "metadata": {},
   "source": [
    "무신사 크롤링 과제 (아직 하는중)"
   ]
  },
  {
   "cell_type": "code",
   "execution_count": 1,
   "metadata": {},
   "outputs": [
    {
     "name": "stdout",
     "output_type": "stream",
     "text": [
      "Requirement already satisfied: selenium==4.8.2 in c:\\users\\김현호\\appdata\\local\\programs\\python\\python310\\lib\\site-packages (4.8.2)\n",
      "Requirement already satisfied: urllib3[socks]~=1.26 in c:\\users\\김현호\\appdata\\local\\programs\\python\\python310\\lib\\site-packages (from selenium==4.8.2) (1.26.8)\n",
      "Requirement already satisfied: trio~=0.17 in c:\\users\\김현호\\appdata\\local\\programs\\python\\python310\\lib\\site-packages (from selenium==4.8.2) (0.22.1)\n",
      "Requirement already satisfied: trio-websocket~=0.9 in c:\\users\\김현호\\appdata\\local\\programs\\python\\python310\\lib\\site-packages (from selenium==4.8.2) (0.10.3)\n",
      "Requirement already satisfied: certifi>=2021.10.8 in c:\\users\\김현호\\appdata\\local\\programs\\python\\python310\\lib\\site-packages (from selenium==4.8.2) (2021.10.8)\n",
      "Requirement already satisfied: attrs>=20.1.0 in c:\\users\\김현호\\appdata\\local\\programs\\python\\python310\\lib\\site-packages (from trio~=0.17->selenium==4.8.2) (23.1.0)\n",
      "Requirement already satisfied: sortedcontainers in c:\\users\\김현호\\appdata\\local\\programs\\python\\python310\\lib\\site-packages (from trio~=0.17->selenium==4.8.2) (2.4.0)\n",
      "Requirement already satisfied: idna in c:\\users\\김현호\\appdata\\local\\programs\\python\\python310\\lib\\site-packages (from trio~=0.17->selenium==4.8.2) (3.3)\n",
      "Requirement already satisfied: outcome in c:\\users\\김현호\\appdata\\local\\programs\\python\\python310\\lib\\site-packages (from trio~=0.17->selenium==4.8.2) (1.2.0)\n",
      "Requirement already satisfied: sniffio in c:\\users\\김현호\\appdata\\local\\programs\\python\\python310\\lib\\site-packages (from trio~=0.17->selenium==4.8.2) (1.3.0)\n",
      "Requirement already satisfied: cffi>=1.14 in c:\\users\\김현호\\appdata\\local\\programs\\python\\python310\\lib\\site-packages (from trio~=0.17->selenium==4.8.2) (1.15.1)\n",
      "Requirement already satisfied: exceptiongroup>=1.0.0rc9 in c:\\users\\김현호\\appdata\\local\\programs\\python\\python310\\lib\\site-packages (from trio~=0.17->selenium==4.8.2) (1.1.2)\n",
      "Requirement already satisfied: wsproto>=0.14 in c:\\users\\김현호\\appdata\\local\\programs\\python\\python310\\lib\\site-packages (from trio-websocket~=0.9->selenium==4.8.2) (1.2.0)\n",
      "Requirement already satisfied: PySocks!=1.5.7,<2.0,>=1.5.6 in c:\\users\\김현호\\appdata\\local\\programs\\python\\python310\\lib\\site-packages (from urllib3[socks]~=1.26->selenium==4.8.2) (1.7.1)\n",
      "Requirement already satisfied: pycparser in c:\\users\\김현호\\appdata\\local\\programs\\python\\python310\\lib\\site-packages (from cffi>=1.14->trio~=0.17->selenium==4.8.2) (2.21)\n",
      "Requirement already satisfied: h11<1,>=0.9.0 in c:\\users\\김현호\\appdata\\local\\programs\\python\\python310\\lib\\site-packages (from wsproto>=0.14->trio-websocket~=0.9->selenium==4.8.2) (0.14.0)\n",
      "Note: you may need to restart the kernel to use updated packages.\n"
     ]
    }
   ],
   "source": [
    "pip install selenium==4.8.2"
   ]
  },
  {
   "cell_type": "code",
   "execution_count": 2,
   "metadata": {},
   "outputs": [
    {
     "name": "stdout",
     "output_type": "stream",
     "text": [
      "Requirement already satisfied: webdriver_manager in c:\\users\\김현호\\appdata\\local\\programs\\python\\python310\\lib\\site-packages (3.8.6)\n",
      "Requirement already satisfied: requests in c:\\users\\김현호\\appdata\\local\\programs\\python\\python310\\lib\\site-packages (from webdriver_manager) (2.27.1)\n",
      "Requirement already satisfied: python-dotenv in c:\\users\\김현호\\appdata\\local\\programs\\python\\python310\\lib\\site-packages (from webdriver_manager) (1.0.0)\n",
      "Requirement already satisfied: tqdm in c:\\users\\김현호\\appdata\\local\\programs\\python\\python310\\lib\\site-packages (from webdriver_manager) (4.63.0)\n",
      "Requirement already satisfied: packaging in c:\\users\\김현호\\appdata\\roaming\\python\\python310\\site-packages (from webdriver_manager) (23.0)\n",
      "Requirement already satisfied: urllib3<1.27,>=1.21.1 in c:\\users\\김현호\\appdata\\local\\programs\\python\\python310\\lib\\site-packages (from requests->webdriver_manager) (1.26.8)\n",
      "Requirement already satisfied: certifi>=2017.4.17 in c:\\users\\김현호\\appdata\\local\\programs\\python\\python310\\lib\\site-packages (from requests->webdriver_manager) (2021.10.8)\n",
      "Requirement already satisfied: charset-normalizer~=2.0.0 in c:\\users\\김현호\\appdata\\local\\programs\\python\\python310\\lib\\site-packages (from requests->webdriver_manager) (2.0.12)\n",
      "Requirement already satisfied: idna<4,>=2.5 in c:\\users\\김현호\\appdata\\local\\programs\\python\\python310\\lib\\site-packages (from requests->webdriver_manager) (3.3)\n",
      "Requirement already satisfied: colorama in c:\\users\\김현호\\appdata\\local\\programs\\python\\python310\\lib\\site-packages (from tqdm->webdriver_manager) (0.4.4)\n",
      "Note: you may need to restart the kernel to use updated packages.\n"
     ]
    }
   ],
   "source": [
    "pip install webdriver_manager"
   ]
  },
  {
   "cell_type": "code",
   "execution_count": 3,
   "metadata": {},
   "outputs": [
    {
     "name": "stdout",
     "output_type": "stream",
     "text": [
      "4.8.2\n"
     ]
    }
   ],
   "source": [
    "from bs4 import BeautifulSoup\n",
    "import selenium\n",
    "from selenium import webdriver\n",
    "from selenium.webdriver.chrome.service import Service\n",
    "from webdriver_manager.chrome import ChromeDriverManager\n",
    "import pandas as pd\n",
    "import numpy as np\n",
    "import time\n",
    "from selenium.webdriver.common.by import By\n",
    "from selenium.webdriver.common.keys import Keys\n",
    "from selenium.webdriver.support.ui import WebDriverWait\n",
    "from selenium.webdriver.support import expected_conditions as EC\n",
    "import re\n",
    "print(selenium.__version__)"
   ]
  },
  {
   "cell_type": "code",
   "execution_count": 10,
   "metadata": {},
   "outputs": [],
   "source": [
    "options = webdriver.ChromeOptions()\n",
    "driver = webdriver.Chrome(service=Service(ChromeDriverManager().install()), options=options)"
   ]
  },
  {
   "cell_type": "code",
   "execution_count": 12,
   "metadata": {},
   "outputs": [
    {
     "ename": "WebDriverException",
     "evalue": "Message: unknown error: failed to change window state to 'normal', current state is 'maximized'\n  (Session info: chrome=114.0.5735.199)\nStacktrace:\nBacktrace:\n\tGetHandleVerifier [0x011BA813+48355]\n\t(No symbol) [0x0114C4B1]\n\t(No symbol) [0x01055358]\n\t(No symbol) [0x0103FB30]\n\t(No symbol) [0x0103ED1F]\n\t(No symbol) [0x0103E171]\n\t(No symbol) [0x010BAD29]\n\t(No symbol) [0x0109A73C]\n\t(No symbol) [0x010AC922]\n\t(No symbol) [0x0109A536]\n\t(No symbol) [0x010782DC]\n\t(No symbol) [0x010793DD]\n\tGetHandleVerifier [0x0141AABD+2539405]\n\tGetHandleVerifier [0x0145A78F+2800735]\n\tGetHandleVerifier [0x0145456C+2775612]\n\tGetHandleVerifier [0x012451E0+616112]\n\t(No symbol) [0x01155F8C]\n\t(No symbol) [0x01152328]\n\t(No symbol) [0x0115240B]\n\t(No symbol) [0x01144FF7]\n\tBaseThreadInitThunk [0x759B7D59+25]\n\tRtlInitializeExceptionChain [0x7781B74B+107]\n\tRtlClearBits [0x7781B6CF+191]\n",
     "output_type": "error",
     "traceback": [
      "\u001b[1;31m---------------------------------------------------------------------------\u001b[0m",
      "\u001b[1;31mWebDriverException\u001b[0m                        Traceback (most recent call last)",
      "Cell \u001b[1;32mIn[12], line 5\u001b[0m\n\u001b[0;32m      3\u001b[0m url \u001b[39m=\u001b[39m \u001b[39m'\u001b[39m\u001b[39mhttps://www.musinsa.com/app/codimap/lists?style_type=&tag_no=&brand=&display_cnt=60&list_kind=big&sort=comment_cnt&page=1\u001b[39m\u001b[39m'\u001b[39m\n\u001b[0;32m      4\u001b[0m driver\u001b[39m.\u001b[39mget(url)\n\u001b[1;32m----> 5\u001b[0m driver\u001b[39m.\u001b[39;49mmaximize_window() \n\u001b[0;32m      7\u001b[0m driver\u001b[39m.\u001b[39mimplicitly_wait(\u001b[39m2\u001b[39m)\n\u001b[0;32m      8\u001b[0m \u001b[39mtry\u001b[39;00m:\n",
      "File \u001b[1;32mc:\\Users\\김현호\\AppData\\Local\\Programs\\Python\\Python310\\lib\\site-packages\\selenium\\webdriver\\remote\\webdriver.py:592\u001b[0m, in \u001b[0;36mWebDriver.maximize_window\u001b[1;34m(self)\u001b[0m\n\u001b[0;32m    590\u001b[0m \u001b[39m\u001b[39m\u001b[39m\"\"\"Maximizes the current window that webdriver is using.\"\"\"\u001b[39;00m\n\u001b[0;32m    591\u001b[0m command \u001b[39m=\u001b[39m Command\u001b[39m.\u001b[39mW3C_MAXIMIZE_WINDOW\n\u001b[1;32m--> 592\u001b[0m \u001b[39mself\u001b[39;49m\u001b[39m.\u001b[39;49mexecute(command, \u001b[39mNone\u001b[39;49;00m)\n",
      "File \u001b[1;32mc:\\Users\\김현호\\AppData\\Local\\Programs\\Python\\Python310\\lib\\site-packages\\selenium\\webdriver\\remote\\webdriver.py:440\u001b[0m, in \u001b[0;36mWebDriver.execute\u001b[1;34m(self, driver_command, params)\u001b[0m\n\u001b[0;32m    438\u001b[0m response \u001b[39m=\u001b[39m \u001b[39mself\u001b[39m\u001b[39m.\u001b[39mcommand_executor\u001b[39m.\u001b[39mexecute(driver_command, params)\n\u001b[0;32m    439\u001b[0m \u001b[39mif\u001b[39;00m response:\n\u001b[1;32m--> 440\u001b[0m     \u001b[39mself\u001b[39;49m\u001b[39m.\u001b[39;49merror_handler\u001b[39m.\u001b[39;49mcheck_response(response)\n\u001b[0;32m    441\u001b[0m     response[\u001b[39m\"\u001b[39m\u001b[39mvalue\u001b[39m\u001b[39m\"\u001b[39m] \u001b[39m=\u001b[39m \u001b[39mself\u001b[39m\u001b[39m.\u001b[39m_unwrap_value(response\u001b[39m.\u001b[39mget(\u001b[39m\"\u001b[39m\u001b[39mvalue\u001b[39m\u001b[39m\"\u001b[39m, \u001b[39mNone\u001b[39;00m))\n\u001b[0;32m    442\u001b[0m     \u001b[39mreturn\u001b[39;00m response\n",
      "File \u001b[1;32mc:\\Users\\김현호\\AppData\\Local\\Programs\\Python\\Python310\\lib\\site-packages\\selenium\\webdriver\\remote\\errorhandler.py:245\u001b[0m, in \u001b[0;36mErrorHandler.check_response\u001b[1;34m(self, response)\u001b[0m\n\u001b[0;32m    243\u001b[0m         alert_text \u001b[39m=\u001b[39m value[\u001b[39m\"\u001b[39m\u001b[39malert\u001b[39m\u001b[39m\"\u001b[39m]\u001b[39m.\u001b[39mget(\u001b[39m\"\u001b[39m\u001b[39mtext\u001b[39m\u001b[39m\"\u001b[39m)\n\u001b[0;32m    244\u001b[0m     \u001b[39mraise\u001b[39;00m exception_class(message, screen, stacktrace, alert_text)  \u001b[39m# type: ignore[call-arg]  # mypy is not smart enough here\u001b[39;00m\n\u001b[1;32m--> 245\u001b[0m \u001b[39mraise\u001b[39;00m exception_class(message, screen, stacktrace)\n",
      "\u001b[1;31mWebDriverException\u001b[0m: Message: unknown error: failed to change window state to 'normal', current state is 'maximized'\n  (Session info: chrome=114.0.5735.199)\nStacktrace:\nBacktrace:\n\tGetHandleVerifier [0x011BA813+48355]\n\t(No symbol) [0x0114C4B1]\n\t(No symbol) [0x01055358]\n\t(No symbol) [0x0103FB30]\n\t(No symbol) [0x0103ED1F]\n\t(No symbol) [0x0103E171]\n\t(No symbol) [0x010BAD29]\n\t(No symbol) [0x0109A73C]\n\t(No symbol) [0x010AC922]\n\t(No symbol) [0x0109A536]\n\t(No symbol) [0x010782DC]\n\t(No symbol) [0x010793DD]\n\tGetHandleVerifier [0x0141AABD+2539405]\n\tGetHandleVerifier [0x0145A78F+2800735]\n\tGetHandleVerifier [0x0145456C+2775612]\n\tGetHandleVerifier [0x012451E0+616112]\n\t(No symbol) [0x01155F8C]\n\t(No symbol) [0x01152328]\n\t(No symbol) [0x0115240B]\n\t(No symbol) [0x01144FF7]\n\tBaseThreadInitThunk [0x759B7D59+25]\n\tRtlInitializeExceptionChain [0x7781B74B+107]\n\tRtlClearBits [0x7781B6CF+191]\n"
     ]
    }
   ],
   "source": [
    "musinsa_list = []\n",
    "musinsa_dic = {0:'페이지1'}\n",
    "url = 'https://www.musinsa.com/app/codimap/lists?style_type=&tag_no=&brand=&display_cnt=60&list_kind=big&sort=comment_cnt&page=1'\n",
    "driver.get(url)\n",
    "driver.maximize_window() \n",
    "\n",
    "driver.implicitly_wait(2)\n",
    "try:\n",
    "    driver.maximize_window()\n",
    "except:\n",
    "    pass\n",
    "\n",
    "for musinsapage in range(1):\n",
    "    # 페이지를 가장 아래까지 스크롤하는 방법\n",
    "\n",
    "    interval = 1 # 1초에 한번씩 스크롤 내림\n",
    "\n",
    "    # 현재 문서 높이를 가져와서 저장\n",
    "    prev_height = driver.execute_script(\"return document.body.scrollHeight\")\n",
    "\n",
    "    # 반복 수행\n",
    "    while True:\n",
    "        # 스크롤을 가장 아래로 내림\n",
    "        driver.execute_script(\"window.scrollTo(0, document.body.scrollHeight)\")\n",
    "\n",
    "        # 페이지 로딩 대기\n",
    "        time.sleep(interval)\n",
    "\n",
    "        # 현재 문서 높이를 가져와서 저장\n",
    "        curr_height = driver.execute_script(\"return document.body.scrollHeight\")\n",
    "        if curr_height == prev_height:\n",
    "            break\n",
    "\n",
    "        prev_height = curr_height\n",
    "\n",
    "    # 해당 Xpath 정보를 확인할때까지 5초간 기다림, 5초후에도 해당 Xpath를 찾지 못하면 에러 반환\n",
    "    # elem = WebDriverWait(driver, 5).until(EC.presence_of_element_located((By.XPATH, '//*[@id=\"content\"]/div[1]/ul/li[40]/a/div/img')))\n",
    "\n",
    "    columns = ['codimap_category', 'codimap_title', 'codimap_date',\n",
    "     'views', 'comment_numbers']         # 웹툰이름, 웹툰작가, 웹툰평점, 정보 크롤링\n",
    "    values = []                                             # 토요일 웹툰 리스트와 일요일 웹툰 리스트 정보를 담을 빈 리스트 생성\n",
    "    soup = BeautifulSoup(driver.page_source, 'lxml')        # 현재 브라우저의 page의 html 정보를 lxml을 이용하여 가져오기\n",
    "    data_rows = soup.find_all('li', attrs={'class':'item'}) # 해당 조건에 맞는 정보들을 list로 반환\n",
    "\n",
    "    for i, row in enumerate(data_rows):                     # data_rows 리스트에 있는 값들과 인덱스를 차례대로 가져온다\n",
    "\n",
    "        print('{}번째 정보 크롤링'.format(i+1))\n",
    "        blank = []\n",
    "        blank.append(musinsa_dic[musinsapage])\n",
    "\n",
    "        catego = row.find('span', attrs={'class': \"style-list-information__text\"})      # 웹툰이름 가져오기\n",
    "        if catego:                                                                    # 해당 조건에 맞는 정보가 하나라도 있을 경우:\n",
    "            catego = catogo.get_text().strip()                                          # html에서 텍스트만 가져온 뒤 공백 제거\n",
    "            blank.append(catego)\n",
    "        else:                                                                       # 해당 조건에 맞는 정보가 하나도 없을 경우:\n",
    "            blank.append('Something is wrong')\n",
    "            print('{}번째 카테고리 가져올때 문제발생'.format(i+1))\n",
    "            continue\n",
    "\n",
    "\n",
    "        title = row.find('a', attrs={'class':'style-list-information__title'})      # 웹툰작가 가져오기\n",
    "        if title:\n",
    "            title = title.get_text().strip()\n",
    "            blank.append(title)\n",
    "        else:\n",
    "            blank.append('Something is wrong')\n",
    "            print('{}번째 줄 제목 가져올때 문제발생'.format(i+1))\n",
    "            continue\n",
    "\n",
    "\n",
    "        \n",
    "\n",
    "\n",
    "        date = row.find('span', attrs={'class': \"post-information__text\"})  \n",
    "        for i in date:\n",
    "        if date in i:\n",
    "            date = date.get_text().strip()    # class가 Rating__star_area--dFzsb인 span 태그 안에 있는 span 태그에서 텍스트 가져오기\n",
    "            blank.append(date)\n",
    "        else:\n",
    "            blank.append('Something is wrong')\n",
    "            print('{}번째 날짜 가져올때 문제발생'.format(i+1))\n",
    "            continue\n",
    "\n",
    "        views = row.find('a', attrs={'class':'post-information__text'})      # 웹툰작가 가져오기\n",
    "        if views:\n",
    "            views = views.get_text().strip()\n",
    "            blank.append(views)\n",
    "        else:\n",
    "            blank.append('Something is wrong')\n",
    "            print('{}번째 줄 조회수 가져올때 문제발생'.format(i+1))\n",
    "            continue\n",
    "\n",
    "        comment_numbers = row.find('a', attrs={'class':'post-information__text'})      # 웹툰작가 가져오기\n",
    "        if comment_numbers:\n",
    "            comment_numbers = comment_numbers.get_text().strip()\n",
    "            blank.append(comment_numbers)\n",
    "        else:\n",
    "            blank.append('Something is wrong')\n",
    "            print('{}번째 줄 댓글수 가져올때 문제발생'.format(i+1))\n",
    "            continue\n",
    "\n",
    "\n",
    "\n",
    "\n",
    "\n",
    "        values.append(blank)\n",
    "        print('---------------------------------------------------')\n",
    "\n",
    "    musinsa_button = driver.find_element(By.XPATH, '//*[@id=\"wrap\"]/header/div[3]/nav/ul/li[8]/a') # 일요일 웹툰 클릭\n",
    "    musinsa_button.click()\n",
    "    time.sleep(1)\n",
    "\n",
    "    df = pd.DataFrame(values, columns = columns)\n",
    "    musinsa_list.append(df) "
   ]
  },
  {
   "cell_type": "code",
   "execution_count": null,
   "metadata": {},
   "outputs": [],
   "source": [
    "df_ = pd.concat(musinsa_list).reset_index(drop=True) # index 초기화 해줘야함\n",
    "df_.head(10)"
   ]
  },
  {
   "cell_type": "code",
   "execution_count": null,
   "metadata": {},
   "outputs": [],
   "source": [
    "df_.shape"
   ]
  },
  {
   "cell_type": "code",
   "execution_count": null,
   "metadata": {},
   "outputs": [],
   "source": [
    "df_.to_csv('무신사_크롤링.csv', encoding = 'utf-8-sig') # 한글이 들어간 정보는 글자가 깨질 수 있어 encoding을 다음과 같이 지정하여 저장"
   ]
  },
  {
   "cell_type": "code",
   "execution_count": null,
   "metadata": {},
   "outputs": [],
   "source": [
    "driver.close()"
   ]
  }
 ],
 "metadata": {
  "kernelspec": {
   "display_name": "Python 3",
   "language": "python",
   "name": "python3"
  },
  "language_info": {
   "codemirror_mode": {
    "name": "ipython",
    "version": 3
   },
   "file_extension": ".py",
   "mimetype": "text/x-python",
   "name": "python",
   "nbconvert_exporter": "python",
   "pygments_lexer": "ipython3",
   "version": "3.10.0"
  },
  "orig_nbformat": 4
 },
 "nbformat": 4,
 "nbformat_minor": 2
}
