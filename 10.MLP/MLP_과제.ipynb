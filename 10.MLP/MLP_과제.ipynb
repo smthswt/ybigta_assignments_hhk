{
  "cells": [
    {
      "cell_type": "markdown",
      "metadata": {
        "id": "4sSY3DjNbPEa"
      },
      "source": [
        "### 필요 Package download"
      ]
    },
    {
      "cell_type": "code",
      "execution_count": 1,
      "metadata": {
        "id": "PK3bVKuBcbZ6"
      },
      "outputs": [],
      "source": [
        "import torch\n",
        "import torchvision\n",
        "import torchvision.transforms as transforms"
      ]
    },
    {
      "cell_type": "code",
      "source": [
        "device = torch.device('cuda' if torch.cuda.is_available() else 'cpu')\n",
        "\n",
        "# 현재 gpu를 사용중이면 cuda로 출력됩니다!:\n",
        "# gpu 변경은 런타임 -> 런타임 유형변경 -> 하드웨어 가속기: GPU로 할 수 있습니다.\n",
        "\n",
        "print(device)"
      ],
      "metadata": {
        "colab": {
          "base_uri": "https://localhost:8080/"
        },
        "id": "B7Jp6DQLn3sz",
        "outputId": "c924766c-f2ef-436d-fc24-d4eab55a7c5e"
      },
      "execution_count": 2,
      "outputs": [
        {
          "output_type": "stream",
          "name": "stdout",
          "text": [
            "cuda\n"
          ]
        }
      ]
    },
    {
      "cell_type": "markdown",
      "source": [
        "## 데이터 부연설명\n",
        "* 저희가 사용할 dataset은 cifar-10이라는 이름을 가진, 컬러 이미지 데이터 60,000개가 들어있는\n",
        "dataset입니다. <br>\n",
        "* 해당 dataset은 총 10개의 class로 나누어져 있으며, 이 task는 각 이미지에 대한 class의 분류 accuracy를 높이는 것이 목적입니다."
      ],
      "metadata": {
        "id": "W9v_beLpA34L"
      }
    },
    {
      "cell_type": "markdown",
      "source": [
        "### Data Normalize & DataLoader Settting"
      ],
      "metadata": {
        "id": "Z8e8Z-lhhxZ7"
      }
    },
    {
      "cell_type": "code",
      "execution_count": 3,
      "metadata": {
        "colab": {
          "base_uri": "https://localhost:8080/"
        },
        "id": "itmleb14cdyh",
        "outputId": "d6475da2-d5b6-4190-ddbb-bd34d21cfc5f"
      },
      "outputs": [
        {
          "output_type": "stream",
          "name": "stdout",
          "text": [
            "Downloading https://www.cs.toronto.edu/~kriz/cifar-10-python.tar.gz to ./data/cifar-10-python.tar.gz\n"
          ]
        },
        {
          "output_type": "stream",
          "name": "stderr",
          "text": [
            "100%|██████████| 170498071/170498071 [00:03<00:00, 48348118.34it/s]\n"
          ]
        },
        {
          "output_type": "stream",
          "name": "stdout",
          "text": [
            "Extracting ./data/cifar-10-python.tar.gz to ./data\n",
            "Files already downloaded and verified\n"
          ]
        }
      ],
      "source": [
        "transform = transforms.Compose(\n",
        "    [transforms.ToTensor(),\n",
        "     transforms.Normalize((0.5, 0.5, 0.5), (0.5, 0.5, 0.5))])\n",
        "\n",
        "trainset = torchvision.datasets.CIFAR10(root='./data', train=True,\n",
        "                                        download=True, transform=transform)\n",
        "trainloader = torch.utils.data.DataLoader(trainset, batch_size=4,\n",
        "                                          shuffle=True, num_workers=2)\n",
        "\n",
        "testset = torchvision.datasets.CIFAR10(root='./data', train=False,\n",
        "                                       download=True, transform=transform)\n",
        "testloader = torch.utils.data.DataLoader(testset, batch_size=4,\n",
        "                                         shuffle=False, num_workers=2)\n",
        "\n",
        "classes = ('plane', 'car', 'bird', 'cat',\n",
        "           'deer', 'dog', 'frog', 'horse', 'ship', 'truck')"
      ]
    },
    {
      "cell_type": "code",
      "execution_count": 4,
      "metadata": {
        "colab": {
          "base_uri": "https://localhost:8080/",
          "height": 211
        },
        "id": "ViOCagdocmEt",
        "outputId": "a23eb030-6d42-4b4e-9134-c8b6249e46b8"
      },
      "outputs": [
        {
          "output_type": "stream",
          "name": "stdout",
          "text": [
            "  car  ship  deer   car\n"
          ]
        },
        {
          "output_type": "display_data",
          "data": {
            "text/plain": [
              "<Figure size 640x480 with 1 Axes>"
            ],
            "image/png": "[encoded data removed]"
          },
          "metadata": {}
        }
      ],
      "source": [
        "import matplotlib.pyplot as plt\n",
        "import numpy as np\n",
        "\n",
        "# 이미지를 보여주기 위한 함수\n",
        "\n",
        "\n",
        "def imshow(img):\n",
        "    img = img / 2 + 0.5     # 표준화 해제\n",
        "    npimg = img.numpy()\n",
        "    plt.imshow(np.transpose(npimg, (1, 2, 0)))\n",
        "\n",
        "\n",
        "# 학습용 이미지를 무작위로 가져오기\n",
        "dataiter = iter(trainloader)\n",
        "images, labels = dataiter.__next__()\n",
        "\n",
        "# 이미지 보여주기\n",
        "imshow(torchvision.utils.make_grid(images))\n",
        "# 정답(label) 출력\n",
        "print(' '.join('%5s' % classes[labels[j]] for j in range(4)))\n",
        "plt.show()"
      ]
    },
    {
      "cell_type": "code",
      "execution_count": 6,
      "metadata": {
        "id": "TQsfjGTWcm-i"
      },
      "outputs": [],
      "source": [
        "import torch.nn as nn\n",
        "import torch.nn.functional as F\n",
        "\n",
        "#해당 부분은 어느 정도 CNN의 개념이 포함되어 있습니다! 과제를 수행하는데 아무 관련도 없으니 그대로 두시면 됩니다!\n",
        "class Net(nn.Module):\n",
        "    def __init__(self):\n",
        "        super(Net, self).__init__()\n",
        "        self.conv1 = nn.Conv2d(3, 6, 5) # input channels, output channels, kernel size\n",
        "        self.pool = nn.MaxPool2d(2, 2)  # kernel size, stride, padding = 0 (default)\n",
        "        self.conv2 = nn.Conv2d(6, 16, 5)\n",
        "        #아래 부분의 코드를 수정 혹은 추가해주시면 됩니다! (layer를 추가할때는 self.fc'num'=nn.Linear(x,y)의 형태로 추가하시면 됩니다!)\n",
        "        self.fc1 = nn.Linear(400, 120) # input features, output features\n",
        "        self.fc2 = nn.Linear(120, 48)\n",
        "        self.fc3 = nn.Linear(48, 10)\n",
        "        self.fc4 = nn.Linear(10, 10)\n",
        "\n",
        "    def forward(self, x):\n",
        "        x = self.pool(F.relu(self.conv1(x)))\n",
        "        x = self.pool(F.relu(self.conv2(x)))\n",
        "        x = x.view(-1, 16 * 5 * 5)\n",
        "        #아래 부분에서 코드를 수정하거나 추가하여 forward 함수를 새롭게 지정해주시기 바랍니다!\n",
        "        #Hint: relu 함수는 출력층을 제외한 모든 층에서 활성화 함수로써 작동되어야 합니다.\n",
        "        x = F.relu(self.fc1(x))\n",
        "        x = F.relu(self.fc2(x))\n",
        "        x = self.fc3(x)\n",
        "        x = self.fc4(x)\n",
        "        return x\n",
        "\n",
        "\n",
        "net = Net()"
      ]
    },
    {
      "cell_type": "code",
      "execution_count": 7,
      "metadata": {
        "id": "HmJhscg1dIhs"
      },
      "outputs": [],
      "source": [
        "import torch.optim as optim\n",
        "\n",
        "#optimizer를 변경하거나 수치를 조정해보는 것도 accuracy를 높이는 데 도움을 줄 수 있습니다!\n",
        "criterion = nn.CrossEntropyLoss()\n",
        "optimizer = optim.SGD(net.parameters(), lr=0.001, momentum = 0.9)"
      ]
    },
    {
      "cell_type": "code",
      "execution_count": 8,
      "metadata": {
        "colab": {
          "base_uri": "https://localhost:8080/"
        },
        "id": "wpAa24bGdT3_",
        "outputId": "256e98a4-3a79-490a-9973-3d5630c4b8f6"
      },
      "outputs": [
        {
          "output_type": "stream",
          "name": "stdout",
          "text": [
            "[1,  2000] epoch loss: 2.297\n",
            "[1,  4000] epoch loss: 2.115\n",
            "[1,  6000] epoch loss: 1.899\n",
            "[1,  8000] epoch loss: 1.746\n",
            "[1, 10000] epoch loss: 1.644\n",
            "[1, 12000] epoch loss: 1.609\n",
            "[2,  2000] epoch loss: 1.515\n",
            "[2,  4000] epoch loss: 1.441\n",
            "[2,  6000] epoch loss: 1.439\n",
            "[2,  8000] epoch loss: 1.378\n",
            "[2, 10000] epoch loss: 1.364\n",
            "[2, 12000] epoch loss: 1.332\n",
            "[3,  2000] epoch loss: 1.293\n",
            "[3,  4000] epoch loss: 1.271\n",
            "[3,  6000] epoch loss: 1.251\n",
            "[3,  8000] epoch loss: 1.241\n",
            "[3, 10000] epoch loss: 1.206\n",
            "[3, 12000] epoch loss: 1.221\n",
            "[4,  2000] epoch loss: 1.155\n",
            "[4,  4000] epoch loss: 1.151\n",
            "[4,  6000] epoch loss: 1.181\n",
            "[4,  8000] epoch loss: 1.129\n",
            "[4, 10000] epoch loss: 1.171\n",
            "[4, 12000] epoch loss: 1.135\n",
            "[5,  2000] epoch loss: 1.092\n",
            "[5,  4000] epoch loss: 1.089\n",
            "[5,  6000] epoch loss: 1.078\n",
            "[5,  8000] epoch loss: 1.093\n",
            "[5, 10000] epoch loss: 1.073\n",
            "[5, 12000] epoch loss: 1.099\n",
            "[6,  2000] epoch loss: 0.997\n",
            "[6,  4000] epoch loss: 1.038\n",
            "[6,  6000] epoch loss: 1.042\n",
            "[6,  8000] epoch loss: 1.030\n",
            "[6, 10000] epoch loss: 1.034\n",
            "[6, 12000] epoch loss: 1.047\n",
            "[7,  2000] epoch loss: 0.969\n",
            "[7,  4000] epoch loss: 0.977\n",
            "[7,  6000] epoch loss: 0.995\n",
            "[7,  8000] epoch loss: 0.989\n",
            "[7, 10000] epoch loss: 0.980\n",
            "[7, 12000] epoch loss: 0.995\n",
            "[8,  2000] epoch loss: 0.906\n",
            "[8,  4000] epoch loss: 0.926\n",
            "[8,  6000] epoch loss: 0.967\n",
            "[8,  8000] epoch loss: 0.953\n",
            "[8, 10000] epoch loss: 0.969\n",
            "[8, 12000] epoch loss: 0.945\n",
            "[9,  2000] epoch loss: 0.878\n",
            "[9,  4000] epoch loss: 0.896\n",
            "[9,  6000] epoch loss: 0.917\n",
            "[9,  8000] epoch loss: 0.917\n",
            "[9, 10000] epoch loss: 0.919\n",
            "[9, 12000] epoch loss: 0.912\n",
            "[10,  2000] epoch loss: 0.836\n",
            "[10,  4000] epoch loss: 0.863\n",
            "[10,  6000] epoch loss: 0.867\n",
            "[10,  8000] epoch loss: 0.905\n",
            "[10, 10000] epoch loss: 0.882\n",
            "[10, 12000] epoch loss: 0.908\n",
            "[11,  2000] epoch loss: 0.805\n",
            "[11,  4000] epoch loss: 0.837\n",
            "[11,  6000] epoch loss: 0.848\n",
            "[11,  8000] epoch loss: 0.859\n",
            "[11, 10000] epoch loss: 0.881\n",
            "[11, 12000] epoch loss: 0.858\n",
            "[12,  2000] epoch loss: 0.769\n",
            "[12,  4000] epoch loss: 0.821\n",
            "[12,  6000] epoch loss: 0.807\n",
            "[12,  8000] epoch loss: 0.837\n",
            "[12, 10000] epoch loss: 0.831\n",
            "[12, 12000] epoch loss: 0.855\n",
            "[13,  2000] epoch loss: 0.762\n",
            "[13,  4000] epoch loss: 0.763\n",
            "[13,  6000] epoch loss: 0.789\n",
            "[13,  8000] epoch loss: 0.799\n",
            "[13, 10000] epoch loss: 0.825\n",
            "[13, 12000] epoch loss: 0.823\n",
            "[14,  2000] epoch loss: 0.724\n",
            "[14,  4000] epoch loss: 0.749\n",
            "[14,  6000] epoch loss: 0.773\n",
            "[14,  8000] epoch loss: 0.786\n",
            "[14, 10000] epoch loss: 0.782\n",
            "[14, 12000] epoch loss: 0.828\n",
            "[15,  2000] epoch loss: 0.710\n",
            "[15,  4000] epoch loss: 0.722\n",
            "[15,  6000] epoch loss: 0.762\n",
            "[15,  8000] epoch loss: 0.772\n",
            "[15, 10000] epoch loss: 0.761\n",
            "[15, 12000] epoch loss: 0.783\n",
            "[16,  2000] epoch loss: 0.684\n",
            "[16,  4000] epoch loss: 0.711\n",
            "[16,  6000] epoch loss: 0.742\n",
            "[16,  8000] epoch loss: 0.746\n",
            "[16, 10000] epoch loss: 0.752\n",
            "[16, 12000] epoch loss: 0.748\n",
            "[17,  2000] epoch loss: 0.672\n",
            "[17,  4000] epoch loss: 0.684\n",
            "[17,  6000] epoch loss: 0.728\n",
            "[17,  8000] epoch loss: 0.737\n",
            "[17, 10000] epoch loss: 0.731\n",
            "[17, 12000] epoch loss: 0.745\n",
            "[18,  2000] epoch loss: 0.646\n",
            "[18,  4000] epoch loss: 0.690\n",
            "[18,  6000] epoch loss: 0.697\n",
            "[18,  8000] epoch loss: 0.713\n",
            "[18, 10000] epoch loss: 0.735\n",
            "[18, 12000] epoch loss: 0.740\n",
            "[19,  2000] epoch loss: 0.640\n",
            "[19,  4000] epoch loss: 0.654\n",
            "[19,  6000] epoch loss: 0.682\n",
            "[19,  8000] epoch loss: 0.693\n",
            "[19, 10000] epoch loss: 0.716\n",
            "[19, 12000] epoch loss: 0.712\n",
            "[20,  2000] epoch loss: 0.607\n",
            "[20,  4000] epoch loss: 0.648\n",
            "[20,  6000] epoch loss: 0.689\n",
            "[20,  8000] epoch loss: 0.699\n",
            "[20, 10000] epoch loss: 0.691\n",
            "[20, 12000] epoch loss: 0.694\n",
            "Finished Training\n"
          ]
        }
      ],
      "source": [
        "for epoch in range(20):  # 데이터셋을 n차례 반복하여 학습합니다. 또한 range 속의 숫자도 바꾸어 학습률을 높이는 것도 도움이 될 겁니다!\n",
        "\n",
        "    running_loss = 0.0\n",
        "    for i, data in enumerate(trainloader, 0):\n",
        "        # 입력을 받은 후\n",
        "        inputs, labels = data\n",
        "        # 변화도(Gradient) 매개변수를 0으로 만든 후\n",
        "        optimizer.zero_grad()\n",
        "\n",
        "        # 순전파 + 역전파 + 최적화\n",
        "        outputs = net(inputs)\n",
        "        loss = criterion(outputs, labels)\n",
        "        loss.backward()\n",
        "        optimizer.step()\n",
        "\n",
        "        # 통계 출력\n",
        "\n",
        "        running_loss += loss.item()\n",
        "        # 2000개의 data를 학습할때마다 loss 출력\n",
        "        if i % 2000 == 1999:    # % 뒤에 들어갈 숫자의 크기를 조정하여 batch_size를 조정할 수 있습니다! 그리고 i % n == n-1:로 숫자를 맞춰주셔야 한다는 점 잊지 마세요!\n",
        "            print('[%d, %5d] epoch loss: %.3f' %\n",
        "                  (epoch + 1, i + 1, running_loss / 2000)) # running_loss 우측의 숫자 역시 윗줄에서 바꾼 batch_size로 바꿔주어야 합니다!\n",
        "            running_loss = 0.0\n",
        "\n",
        "print('Finished Training')"
      ]
    },
    {
      "cell_type": "code",
      "source": [
        "dataiter = iter(testloader)\n",
        "images, labels = dataiter.__next__()\n",
        "\n",
        "# print images\n",
        "imshow(torchvision.utils.make_grid(images))\n",
        "print('GroundTruth: ', ' '.join('%5s' % classes[labels[j]] for j in range(4)))\n",
        "plt.show()"
      ],
      "metadata": {
        "colab": {
          "base_uri": "https://localhost:8080/",
          "height": 211
        },
        "id": "rNF7TthMfA37",
        "outputId": "5ec2bfd1-f535-4466-c644-44c4d521e5dc"
      },
      "execution_count": 9,
      "outputs": [
        {
          "output_type": "stream",
          "name": "stdout",
          "text": [
            "GroundTruth:    cat  ship  ship plane\n"
          ]
        },
        {
          "output_type": "display_data",
          "data": {
            "text/plain": [
              "<Figure size 640x480 with 1 Axes>"
            ],
            "image/png": "[encoded data removed]"
          },
          "metadata": {}
        }
      ]
    },
    {
      "cell_type": "code",
      "source": [
        "outputs = net(images)\n",
        "_, predicted = torch.max(outputs, 1)\n",
        "\n",
        "print('Predicted: ', ' '.join('%5s' % classes[predicted[j]]\n",
        "                              for j in range(4)))"
      ],
      "metadata": {
        "colab": {
          "base_uri": "https://localhost:8080/"
        },
        "id": "NJqS91M8hYv1",
        "outputId": "e1206fca-ddda-4cb9-acd6-5a8c0a5866d0"
      },
      "execution_count": 10,
      "outputs": [
        {
          "output_type": "stream",
          "name": "stdout",
          "text": [
            "Predicted:    cat  ship plane plane\n"
          ]
        }
      ]
    },
    {
      "cell_type": "code",
      "source": [
        "#과제2에서 요구하는 accuracy의 결과값이 나오는 code입니다! 캡처를 하실 때는 해당 코드의 결과를 캡처하시고, 이를 제출하여 주시기 바랍니다~\n",
        "correct = 0\n",
        "total = 0\n",
        "with torch.no_grad():\n",
        "    for data in testloader:\n",
        "        images, labels = data\n",
        "        outputs = net(images)\n",
        "        _, predicted = torch.max(outputs.data, 1)\n",
        "        total += labels.size(0)\n",
        "        correct += (predicted == labels).sum().item()\n",
        "\n",
        "print('Accuracy of the network on the 10000 test images: %d %%' % (\n",
        "    100 * correct / total))"
      ],
      "metadata": {
        "colab": {
          "base_uri": "https://localhost:8080/"
        },
        "id": "wKItpc_2heNT",
        "outputId": "fb95886f-66db-43f1-a129-ad52b5e24aa6"
      },
      "execution_count": 11,
      "outputs": [
        {
          "output_type": "stream",
          "name": "stdout",
          "text": [
            "Accuracy of the network on the 10000 test images: 61 %\n"
          ]
        }
      ]
    },
    {
      "cell_type": "code",
      "source": [
        "class_correct = list(0. for i in range(10))\n",
        "class_total = list(0. for i in range(10))\n",
        "with torch.no_grad():\n",
        "    for data in testloader:\n",
        "        images, labels = data\n",
        "        outputs = net(images)\n",
        "        _, predicted = torch.max(outputs, 1)\n",
        "        c = (predicted == labels).squeeze()\n",
        "        for i in range(4):\n",
        "            label = labels[i]\n",
        "            class_correct[label] += c[i].item()\n",
        "            class_total[label] += 1\n",
        "\n",
        "\n",
        "for i in range(10):\n",
        "    print('Accuracy of %5s : %2d %%' % (\n",
        "        classes[i], 100 * class_correct[i] / class_total[i]))"
      ],
      "metadata": {
        "colab": {
          "base_uri": "https://localhost:8080/"
        },
        "id": "2VD2MZ91hkk1",
        "outputId": "95b2bb40-76cc-4689-fe78-817fbb89e930"
      },
      "execution_count": 12,
      "outputs": [
        {
          "output_type": "stream",
          "name": "stdout",
          "text": [
            "Accuracy of plane : 57 %\n",
            "Accuracy of   car : 83 %\n",
            "Accuracy of  bird : 58 %\n",
            "Accuracy of   cat : 43 %\n",
            "Accuracy of  deer : 48 %\n",
            "Accuracy of   dog : 36 %\n",
            "Accuracy of  frog : 74 %\n",
            "Accuracy of horse : 68 %\n",
            "Accuracy of  ship : 75 %\n",
            "Accuracy of truck : 69 %\n"
          ]
        }
      ]
    },
    {
      "cell_type": "markdown",
      "source": [
        "출처: https://m.blog.naver.com/ckdgus1433/221406102936의 튜토리얼을 참고하였습니다!"
      ],
      "metadata": {
        "id": "FXdtUROHSU4_"
      }
    },
    {
      "cell_type": "code",
      "source": [],
      "metadata": {
        "id": "BQl-BQnKSUlu"
      },
      "execution_count": 12,
      "outputs": []
    },
    {
      "cell_type": "markdown",
      "source": [
        "#과제"
      ],
      "metadata": {
        "id": "SXfXZ7HorjRI"
      }
    },
    {
      "cell_type": "markdown",
      "source": [
        "##1. 실습 파일의 overfitting model의 optimizer, epoch, learning rate 등을 변경하여 실행한 결과와, underfitting의 layer를 2개 이상 추가하여 실행한 결과를 각각 캡처하여 overfit, underfit이라는 이름으로 깃허브에 제출하기.  <br> <br>\n",
        "##2. 과제 파일을 수정하여 Test image에 대한 accuracy를 51% 이상으로 높이고, 모델의 결과에 대한 캡처본과 파일을 모두 깃허브에 제출하기. <br>\n",
        "Hint: 파일 중간중간에 설명이 있는 부분을 참고하시면 아마 될 겁니다!<br>\n",
        "(layer 추가, optimizer 변경, learning rate 조정 등...) <br>\n",
        "##3. MLP model과 기존 ML model의 차이점을 최소 2가지 측면에서 서술하기. <br>\n",
        "답1:   <br> 구조적 차이: MLP은 다층 구조를 가지는 딥러닝 모델로 여러개의 은닉층으로 이루어진 인공 신경망이고, ML 모델은 주로 선형 모델이나 비선형 모델로 구성된 머신 러닝 모델입니다.\n",
        "\n",
        "\n",
        "답2: 학습 능력의 차이: MLP는 복잡한 문제와 대용량 데이터에서 뛰어난 성능을 보이고,ML은 상대적으로 간단한 구조로 작은 데이터셋에서 빠른 학습 속도를 보입니다. 그리고 복잡한 데이터에서 약간의 제한이 있습니다."
      ],
      "metadata": {
        "id": "PxXa62w5rmyq"
      }
    }
  ],
  "metadata": {
    "accelerator": "GPU",
    "colab": {
      "provenance": [],
      "gpuType": "T4"
    },
    "kernelspec": {
      "display_name": "Python 3",
      "name": "python3"
    },
    "language_info": {
      "name": "python"
    }
  },
  "nbformat": 4,
  "nbformat_minor": 0
}